{
 "cells": [
  {
   "cell_type": "markdown",
   "metadata": {},
   "source": [
    "### CSS Selector\n",
    "    - HTML 엘리먼트에 CSS 스타일을 적용시킬 때 엘리먼트를 선택하기위한 방법\n",
    "    - 선택하는 방법\n",
    "        - tag 이름\n",
    "        - id 값\n",
    "        - class 값\n",
    "        - attribute 값"
   ]
  },
  {
   "cell_type": "markdown",
   "metadata": {},
   "source": [
    "###### 1. 태그 이름으로 선택\n",
    "    - data1 엘리먼트를 선택\n",
    "    - css-selector : div"
   ]
  },
  {
   "cell_type": "markdown",
   "metadata": {},
   "source": [
    "###### 2. 아이디 값으로 선택\n",
    "    - data2를 아이디 값으로 선택\n",
    "    - css-selector : #txt"
   ]
  },
  {
   "cell_type": "markdown",
   "metadata": {},
   "source": [
    "###### 3. 클래스 값으로 선택\n",
    "     - data3를 클래스 값으로 선택\n",
    "     - css-selector : .no2"
   ]
  },
  {
   "cell_type": "markdown",
   "metadata": {},
   "source": [
    "###### 4. 속성값으로 선택\n",
    "    - data4를 속성 값으로 선택\n",
    "    - css=selector : '[val='d4'] [id='da4']"
   ]
  },
  {
   "cell_type": "markdown",
   "metadata": {},
   "source": [
    "###### 5. 혼합해서 사용\n",
    "    - span 태그, class 값이 no5 엘리먼트를 선택\n",
    "    - css-selector : 'span.no5'"
   ]
  },
  {
   "cell_type": "code",
   "execution_count": 3,
   "metadata": {},
   "outputs": [
    {
     "data": {
      "text/html": [
       "<div, id='wrap', class='dss'>data1</div>\n",
       "<p, id='txt', class='dss-txt no1'>data2</p>\n",
       "<span, class='dss-txt no2', val='d3'>data3</span>\n",
       "<span, val='d4'>data4</span>\n"
      ],
      "text/plain": [
       "<IPython.core.display.HTML object>"
      ]
     },
     "metadata": {},
     "output_type": "display_data"
    }
   ],
   "source": [
    "%%html\n",
    "<div, id='wrap', class='dss'>data1</div>\n",
    "<p, id='txt', class='dss-txt no1'>data2</p>\n",
    "<span, class='dss-txt no2', val='d3'>data3</span>\n",
    "<span, class='no5', id='da4', val='d4'>data4</span>"
   ]
  },
  {
   "cell_type": "markdown",
   "metadata": {},
   "source": [
    "###### 6. not selector\n",
    "    - 선택된 엘리먼트에서 특정 조건의 엘리먼트를 제거해서 선택\n",
    "    - data2 엘리먼트만 제외한 ds 클래스를 선택\n",
    "    - css-selector : '.ds:not(.dss2)"
   ]
  },
  {
   "cell_type": "markdown",
   "metadata": {},
   "source": [
    "###### 7. nth-child\n",
    "    - n번쨰의 엘리먼트를 선택\n",
    "    - data3 선택하는 방법\n",
    "    - css-selector : .ds:nth-child(3)\n",
    "    - <span>data0</span>이 추가되면 data2를 선택 (nth-dhild(n) 부분이 먼저 실행)"
   ]
  },
  {
   "cell_type": "code",
   "execution_count": 6,
   "metadata": {},
   "outputs": [
    {
     "data": {
      "text/html": [
       "<div>\n",
       "    <span>data0</span>\n",
       "    <p class='ds dss1'> data1</p>\n",
       "    <p class='ds dss2'> data2</p>\n",
       "    <p class='ds dss3'> data3</p>\n",
       "    <p class='ds dss4'> data4</p>\n",
       "</div>\n"
      ],
      "text/plain": [
       "<IPython.core.display.HTML object>"
      ]
     },
     "metadata": {},
     "output_type": "display_data"
    }
   ],
   "source": [
    "%%html\n",
    "<div>\n",
    "    <span>data0</span>\n",
    "    <p class='ds dss1'> data1</p>\n",
    "    <p class='ds dss2'> data2</p>\n",
    "    <p class='ds dss3'> data3</p>\n",
    "    <p class='ds dss4'> data4</p>\n",
    "</div>"
   ]
  },
  {
   "cell_type": "markdown",
   "metadata": {},
   "source": [
    "###### 8. 계층구조로 엘리먼트 선택\n",
    "    - 바로 아래 단계의 엘리먼트 선택\n",
    "        - .wrap-1 > h5 : inner1 선택\n",
    "    - 모든 하위 엘리먼트를 선택\n",
    "        - .wrap-1 h5 : inner1, inner2 전부 선택"
   ]
  },
  {
   "cell_type": "code",
   "execution_count": 8,
   "metadata": {},
   "outputs": [
    {
     "data": {
      "text/html": [
       "\n",
       "<div, class='wrap-1'>\n",
       "    <h5>inner1<h5>\n",
       "    <div class='wrap-2'>\n",
       "        <h5>inner2<h5>\n",
       "    </div>\n",
       "</div>\n"
      ],
      "text/plain": [
       "<IPython.core.display.HTML object>"
      ]
     },
     "metadata": {},
     "output_type": "display_data"
    }
   ],
   "source": [
    "%%html\n",
    "\n",
    "<div, class='wrap-1'>\n",
    "    <h5>inner1<h5>\n",
    "    <div class='wrap-2'>\n",
    "        <h5>inner2<h5>\n",
    "    </div>\n",
    "</div>"
   ]
  },
  {
   "cell_type": "code",
   "execution_count": null,
   "metadata": {},
   "outputs": [],
   "source": []
  },
  {
   "cell_type": "code",
   "execution_count": null,
   "metadata": {},
   "outputs": [],
   "source": []
  },
  {
   "cell_type": "code",
   "execution_count": null,
   "metadata": {},
   "outputs": [],
   "source": []
  },
  {
   "cell_type": "code",
   "execution_count": null,
   "metadata": {},
   "outputs": [],
   "source": []
  },
  {
   "cell_type": "code",
   "execution_count": null,
   "metadata": {},
   "outputs": [],
   "source": []
  },
  {
   "cell_type": "code",
   "execution_count": null,
   "metadata": {},
   "outputs": [],
   "source": []
  },
  {
   "cell_type": "code",
   "execution_count": null,
   "metadata": {},
   "outputs": [],
   "source": []
  },
  {
   "cell_type": "code",
   "execution_count": null,
   "metadata": {},
   "outputs": [],
   "source": []
  },
  {
   "cell_type": "code",
   "execution_count": null,
   "metadata": {},
   "outputs": [],
   "source": []
  },
  {
   "cell_type": "code",
   "execution_count": null,
   "metadata": {},
   "outputs": [],
   "source": []
  },
  {
   "cell_type": "code",
   "execution_count": null,
   "metadata": {},
   "outputs": [],
   "source": []
  },
  {
   "cell_type": "code",
   "execution_count": null,
   "metadata": {},
   "outputs": [],
   "source": []
  },
  {
   "cell_type": "code",
   "execution_count": null,
   "metadata": {},
   "outputs": [],
   "source": []
  },
  {
   "cell_type": "code",
   "execution_count": null,
   "metadata": {},
   "outputs": [],
   "source": []
  },
  {
   "cell_type": "code",
   "execution_count": null,
   "metadata": {},
   "outputs": [],
   "source": []
  },
  {
   "cell_type": "code",
   "execution_count": null,
   "metadata": {},
   "outputs": [],
   "source": []
  },
  {
   "cell_type": "code",
   "execution_count": null,
   "metadata": {},
   "outputs": [],
   "source": []
  },
  {
   "cell_type": "code",
   "execution_count": null,
   "metadata": {},
   "outputs": [],
   "source": []
  },
  {
   "cell_type": "code",
   "execution_count": null,
   "metadata": {},
   "outputs": [],
   "source": []
  },
  {
   "cell_type": "code",
   "execution_count": null,
   "metadata": {},
   "outputs": [],
   "source": []
  },
  {
   "cell_type": "code",
   "execution_count": null,
   "metadata": {},
   "outputs": [],
   "source": []
  },
  {
   "cell_type": "code",
   "execution_count": null,
   "metadata": {},
   "outputs": [],
   "source": []
  }
 ],
 "metadata": {
  "kernelspec": {
   "display_name": "Python 3",
   "language": "python",
   "name": "python3"
  },
  "language_info": {
   "codemirror_mode": {
    "name": "ipython",
    "version": 3
   },
   "file_extension": ".py",
   "mimetype": "text/x-python",
   "name": "python",
   "nbconvert_exporter": "python",
   "pygments_lexer": "ipython3",
   "version": "3.7.4"
  }
 },
 "nbformat": 4,
 "nbformat_minor": 4
}
