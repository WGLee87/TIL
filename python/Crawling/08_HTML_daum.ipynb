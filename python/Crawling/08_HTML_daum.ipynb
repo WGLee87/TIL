{
 "cells": [
  {
   "cell_type": "markdown",
   "metadata": {},
   "source": [
    "![alt text](data.png 'Logoo Title Text 1')"
   ]
  },
  {
   "cell_type": "markdown",
   "metadata": {},
   "source": [
    "###### HTML 데이터 파싱을 이용한 크롤링\n",
    "    - 네이버 연관 검색어\n",
    "        - 1. 웹페이지 분석 : URL 찾기\n",
    "        - 2. 요청 > 응답 : HTML(str)\n",
    "        - 3. HTML(str) > BeautifulSoup obh (css-selector) > dataframe\n",
    "            - 1. select : 여러개의 element 객체를 리스트로 가져옴\n",
    "            - 2. select_one : 하나의 element 객체를 가져옴"
   ]
  },
  {
   "cell_type": "code",
   "execution_count": 99,
   "metadata": {
    "scrolled": true
   },
   "outputs": [
    {
     "name": "stdout",
     "output_type": "stream",
     "text": [
      "[\"'K칩 시대' 선봉장 된 삼성전자\", \"'환급효과'에 건조기 싸질까…삼성·LG, 1등급 경쟁\", '삼성전자, 반도체 생태계 확장해 ‘K칩 시대’ 이끈다', '수심위 손에 놓인 韓경제 명운, 삼성 사법리스크 분수령']\n"
     ]
    }
   ],
   "source": [
    "# 1.웹페이지 분석 : URL\n",
    "query='삼성전자'\n",
    "url = 'https://search.naver.com/search.naver?sm=top_hty&fbm=1&ie=utf8&query={}'.format(query)\n",
    "# 2.resquests > response : HTML(str)\n",
    "response = requests.get(url)\n",
    "# print(url)\n",
    "response\n",
    "# 3.HTML(str) > BeautifulSoup obj (css-selector) > dataframe\n",
    "resp = BeautifulSoup(response.content, 'html.parser')\n",
    "elements = resp.select('ul.type01')[2]\n",
    "\n",
    "news_title = []\n",
    "for element in elements.select('li > dl > dt'):\n",
    "#     print(element)\n",
    "    news_title.append(element.text)\n",
    "print(news_title)"
   ]
  },
  {
   "cell_type": "code",
   "execution_count": 97,
   "metadata": {
    "scrolled": true
   },
   "outputs": [
    {
     "name": "stdout",
     "output_type": "stream",
     "text": [
      "[' ', <li id=\"sp_nws_all1\"> <div class=\"thumb\"><a class=\"sp_thmb thmb80\" href=\"https://view.asiae.co.kr/article/2020062512591198235\" onclick=\"return goOtherCR(this, 'a=nws_all*h.img&amp;r=1&amp;i=88000385_000000000000000004705856&amp;g=277.0004705856&amp;u='+urlencode(this.href));\" target=\"_blank\"><img alt=\"‘K칩 시대‘ 선봉장 된\" class=\"\" height=\"80\" onerror=\"this.parentNode.style.display='none';\" src=\"https://search.pstatic.net/common/?src=https%3A%2F%2Fimgnews.pstatic.net%2Fimage%2Forigin%2F277%2F2020%2F06%2F25%2F4705856.jpg&amp;type=ofullfill80_80_q75_re2\" width=\"80\"/><span class=\"thmb_v\"></span></a></div> <dl> <dt><a class=\"_sp_each_title\" href=\"https://view.asiae.co.kr/article/2020062512591198235\" onclick=\"return goOtherCR(this, 'a=nws_all*h.tit&amp;r=1&amp;i=88000385_000000000000000004705856&amp;g=277.0004705856&amp;u='+urlencode(this.href));\" target=\"_blank\" title=\"'K칩 시대' 선봉장 된 삼성전자\">'K칩 시대' 선봉장 된 <strong class=\"hl\">삼성전자</strong></a></dt> <dd class=\"txt_inline\"><span class=\"_sp_each_source\">아시아경제<i class=\"sprenew api_ico_pick\">언론사 선정</i></span> <span class=\"bar\"></span> <span class=\"newspaper\">4면3단</span> <span class=\"bar\"></span> 3시간 전 <span class=\"bar\"></span> <a class=\"_sp_each_url\" href=\"https://news.naver.com/main/read.nhn?mode=LSD&amp;mid=sec&amp;sid1=101&amp;oid=277&amp;aid=0004705856\" onclick=\"return goOtherCR(this, 'a=nws_all*h.nav&amp;r=1&amp;i=88000385_000000000000000004705856&amp;u='+urlencode(this.href));\" target=\"_blank\">네이버뉴스</a> <div class=\"scial\" id=\"sp_nws_all1_base\"> <span class=\"bar\"></span> <a class=\"bt_scial2 naver-splugin\" data-oninitialize=\"splugin_oninitialize('sp_nws_all1');\" data-style=\"unity-v2\" href=\"#\" onclick=\"goOtherTCR(this, 'a=nws_all*h.pplugin&amp;r=1&amp;i=88000385_000000000000000004705856&amp;u='+urlencode(this.href)); return false;\">보내기</a> </div> </dd> <dd><strong class=\"hl\">삼성전자</strong>가 'K칩 시대'의 포문을 열기위해 국내 반도체산업 전분야에 대한 전방위 지원에 나서고 있다. 중소 협력사의 반도체 설비부품 개발을 지원하고, 산학협력을 통한 미래세대의 투자를 늘리는 등 '코리아 반도체...</dd> <dd> <ul class=\"relation_lst\"> <li> <span class=\"ico_bu\"></span> <a href=\"http://www.edaily.co.kr/news/newspath.asp?newsid=02355046625805328\" onclick=\"return goOtherCR(this, 'a=nws_all*c.tit&amp;r=2&amp;i=880000E7_000000000000000004673254&amp;g=018.0004673254&amp;u='+urlencode(this.href));\" target=\"_blank\" title='이재용의 `동행`비전..삼성, \"협력사 손잡고 `K칩 시대` 연다\"'>이재용의 `동행`비전..<strong class=\"hl\">삼성</strong>, \"협력사 손잡고 `K칩 시대` 연다\"</a> <span class=\"txt_sinfo\"> <span class=\"press\" title=\"이데일리\">이데일리</span> <span class=\"bar\"></span> 5시간 전 <span class=\"bar\"></span><a class=\"_sp_each_url\" href=\"https://news.naver.com/main/read.nhn?mode=LSD&amp;mid=sec&amp;sid1=101&amp;oid=018&amp;aid=0004673254\" onclick=\"return goOtherCR(this, 'a=nws_all*c.nav&amp;r=2&amp;i=880000E7_000000000000000004673254&amp;u='+urlencode(this.href));\" target=\"_blank\">네이버뉴스</a> </span> </li> </ul> </dd> </dl> </li>, ' ', <li id=\"sp_nws_all3\"> <div class=\"thumb\"><a class=\"sp_thmb thmb80\" href=\"https://www.hankyung.com/it/article/202006256814g\" onclick=\"return goOtherCR(this, 'a=nws_all*h.img&amp;r=3&amp;i=88000107_000000000000000004367541&amp;g=015.0004367541&amp;u='+urlencode(this.href));\" target=\"_blank\"><img alt=\"‘환급효과‘에 건조기 \" class=\"\" height=\"80\" onerror=\"this.parentNode.style.display='none';\" src=\"https://search.pstatic.net/common/?src=https%3A%2F%2Fimgnews.pstatic.net%2Fimage%2Forigin%2F015%2F2020%2F06%2F25%2F4367541.jpg&amp;type=ofullfill80_80_q75_re2\" width=\"80\"/><span class=\"thmb_v\"></span></a></div> <dl> <dt><a class=\"_sp_each_title\" href=\"https://www.hankyung.com/it/article/202006256814g\" onclick=\"return goOtherCR(this, 'a=nws_all*h.tit&amp;r=3&amp;i=88000107_000000000000000004367541&amp;g=015.0004367541&amp;u='+urlencode(this.href));\" target=\"_blank\" title=\"'환급효과'에 건조기 싸질까…삼성·LG, 1등급 경쟁\">'환급효과'에 건조기 싸질까…<strong class=\"hl\">삼성</strong>·LG, 1등급 경쟁</a></dt> <dd class=\"txt_inline\"><span class=\"_sp_each_source\">한국경제<i class=\"sprenew api_ico_pick\">언론사 선정</i></span> <span class=\"bar\"></span> 5시간 전 <span class=\"bar\"></span> <a class=\"_sp_each_url\" href=\"https://news.naver.com/main/read.nhn?mode=LSD&amp;mid=sec&amp;sid1=105&amp;oid=015&amp;aid=0004367541\" onclick=\"return goOtherCR(this, 'a=nws_all*h.nav&amp;r=3&amp;i=88000107_000000000000000004367541&amp;u='+urlencode(this.href));\" target=\"_blank\">네이버뉴스</a> <div class=\"scial\" id=\"sp_nws_all3_base\"> <span class=\"bar\"></span> <a class=\"bt_scial2 naver-splugin\" data-oninitialize=\"splugin_oninitialize('sp_nws_all3');\" data-style=\"unity-v2\" href=\"#\" onclick=\"goOtherTCR(this, 'a=nws_all*h.pplugin&amp;r=3&amp;i=88000107_000000000000000004367541&amp;u='+urlencode(this.href)); return false;\">보내기</a> </div> </dd> <dd>25일 업계에 따르면 <strong class=\"hl\">삼성전자</strong>는 9kg 용량 의류 건조기 신제품을, LG<strong class=\"hl\">전자</strong>는 16kg 신제품을 이날 나란히 출시한다. 두 제품은 모두 한국에너지공단으로부터 에너지효율 1등급을 받았다. <strong class=\"hl\">삼성전자</strong>는 이번 9kg 용량 신제품...</dd> <dd> <ul class=\"relation_lst\"> <li> <span class=\"ico_bu\"></span> <a href=\"http://www.inews24.com/view/1276459\" onclick=\"return goOtherCR(this, 'a=nws_all*i.tit&amp;r=4&amp;i=880000D6_000000000000000000544576&amp;g=031.0000544576&amp;u='+urlencode(this.href));\" target=\"_blank\" title=\"'국내산' 강조한 LG, 삼성 저격?…불붙은 '1등급 건조기' 경쟁\">'국내산' 강조한 LG, <strong class=\"hl\">삼성</strong> 저격?…불붙은 '1등급 건조기' 경쟁</a> <span class=\"txt_sinfo\"> <span class=\"press\" title=\"아이뉴스24\">아이뉴스24<i class=\"sprenew api_ico_pick\">언론사 선정</i></span> <span class=\"bar\"></span> 5시간 전 <span class=\"bar\"></span><a class=\"_sp_each_url\" href=\"https://news.naver.com/main/read.nhn?mode=LSD&amp;mid=sec&amp;sid1=101&amp;oid=031&amp;aid=0000544576\" onclick=\"return goOtherCR(this, 'a=nws_all*i.nav&amp;r=4&amp;i=880000D6_000000000000000000544576&amp;u='+urlencode(this.href));\" target=\"_blank\">네이버뉴스</a> </span> </li> </ul> </dd> </dl> </li>, ' ', <li id=\"sp_nws_all5\"> <div class=\"thumb\"><a class=\"sp_thmb thmb80\" href=\"https://www.sedaily.com/NewsView/1Z45WTQ4Q2\" onclick=\"return goOtherCR(this, 'a=nws_all*a.img&amp;r=5&amp;i=88000108_000000000000000003758948&amp;g=011.0003758948&amp;u='+urlencode(this.href));\" target=\"_blank\"><img alt=\"삼성전자, 반도체 생태\" class=\"\" height=\"80\" onerror=\"this.parentNode.style.display='none';\" src=\"https://search.pstatic.net/common/?src=https%3A%2F%2Fimgnews.pstatic.net%2Fimage%2Forigin%2F011%2F2020%2F06%2F25%2F3758948.jpg&amp;type=ofullfill80_80_q75_re2\" width=\"80\"/><span class=\"thmb_v\"></span></a></div> <dl> <dt><a class=\"_sp_each_title\" href=\"https://www.sedaily.com/NewsView/1Z45WTQ4Q2\" onclick=\"return goOtherCR(this, 'a=nws_all*a.tit&amp;r=5&amp;i=88000108_000000000000000003758948&amp;g=011.0003758948&amp;u='+urlencode(this.href));\" target=\"_blank\" title=\"삼성전자, 반도체 생태계 확장해 ‘K칩 시대’ 이끈다\"><strong class=\"hl\">삼성전자</strong>, 반도체 생태계 확장해 ‘K칩 시대’ 이끈다</a></dt> <dd class=\"txt_inline\"><span class=\"_sp_each_source\">서울경제</span> <span class=\"bar\"></span> 5시간 전 <span class=\"bar\"></span> <a class=\"_sp_each_url\" href=\"https://news.naver.com/main/read.nhn?mode=LSD&amp;mid=sec&amp;sid1=101&amp;oid=011&amp;aid=0003758948\" onclick=\"return goOtherCR(this, 'a=nws_all*a.nav&amp;r=5&amp;i=88000108_000000000000000003758948&amp;u='+urlencode(this.href));\" target=\"_blank\">네이버뉴스</a> <div class=\"scial\" id=\"sp_nws_all5_base\"> <span class=\"bar\"></span> <a class=\"bt_scial2 naver-splugin\" data-oninitialize=\"splugin_oninitialize('sp_nws_all5');\" data-style=\"unity-v2\" href=\"#\" onclick=\"goOtherTCR(this, 'a=nws_all*a.pplugin&amp;r=5&amp;i=88000108_000000000000000003758948&amp;u='+urlencode(this.href)); return false;\">보내기</a> </div> </dd> <dd><strong class=\"hl\">삼성전자</strong>가 중소 협력사의 반도체 설비·부품 개발을 지원하는 등 국내 반도체 생태계 강화에 총력을 기울이고 있다. <strong class=\"hl\">삼성전자</strong>는 협력사·산학·친환경의 ‘삼각축’ 상생활동을 통해 국내 반도체 산업 전 분야의...</dd> <dd> <ul class=\"relation_lst\"> <li> <span class=\"ico_bu\"></span> <a href=\"http://www.inews24.com/view/1276388\" onclick=\"return goOtherCR(this, 'a=nws_all*c.tit&amp;r=6&amp;i=880000D6_000000000000000000544577&amp;g=031.0000544577&amp;u='+urlencode(this.href));\" target=\"_blank\" title=\"삼성전자, 'K칩 시대' 이끈다…반도체 생태계 확장 나섰다\"><strong class=\"hl\">삼성전자</strong>, 'K칩 시대' 이끈다…반도체 생태계 확장 나섰다</a> <span class=\"txt_sinfo\"> <span class=\"press\" title=\"아이뉴스24\">아이뉴스24</span> <span class=\"bar\"></span> 5시간 전 <span class=\"bar\"></span><a class=\"_sp_each_url\" href=\"https://news.naver.com/main/read.nhn?mode=LSD&amp;mid=sec&amp;sid1=101&amp;oid=031&amp;aid=0000544577\" onclick=\"return goOtherCR(this, 'a=nws_all*c.nav&amp;r=6&amp;i=880000D6_000000000000000000544577&amp;u='+urlencode(this.href));\" target=\"_blank\">네이버뉴스</a> </span> </li> <li> <span class=\"ico_bu\"></span> <a href=\"http://www.wowtv.co.kr/NewsCenter/News/Read?articleId=A202006250104&amp;t=NN\" onclick=\"return goOtherCR(this, 'a=nws_all*c.tit&amp;r=7&amp;i=88000149_000000000000000000881302&amp;g=215.0000881302&amp;u='+urlencode(this.href));\" target=\"_blank\" title=\"삼성전자, 국내 반도체 생태계 강화 '총력'…'K칩'시대 연다\"><strong class=\"hl\">삼성전자</strong>, 국내 반도체 생태계 강화 '총력'…'K칩'시대 연다</a> <span class=\"txt_sinfo\"> <span class=\"press\" title=\"한국경제TV\">한국경제TV</span> <span class=\"bar\"></span> 5시간 전 <span class=\"bar\"></span><a class=\"_sp_each_url\" href=\"https://news.naver.com/main/read.nhn?mode=LSD&amp;mid=sec&amp;sid1=101&amp;oid=215&amp;aid=0000881302\" onclick=\"return goOtherCR(this, 'a=nws_all*c.nav&amp;r=7&amp;i=88000149_000000000000000000881302&amp;u='+urlencode(this.href));\" target=\"_blank\">네이버뉴스</a> </span> </li> </ul> </dd> </dl> </li>, ' ', <li id=\"sp_nws_all8\"> <div class=\"thumb\"><a class=\"sp_thmb thmb80\" href=\"http://www.skyedaily.com/news/news_view.html?ID=107203\" onclick=\"return goOtherCR(this, 'a=nws_all*b.img&amp;r=8&amp;i=8817ca83_000000000000000000038804&amp;g=5510.0000038804&amp;u='+urlencode(this.href));\" target=\"_blank\"><img alt=\"수심위 손에 놓인 韓경\" class=\"\" height=\"80\" onerror=\"this.parentNode.style.display='none';\" src=\"https://search.pstatic.net/common/?src=https%3A%2F%2Fimgnews.pstatic.net%2Fimage%2Forigin%2F5510%2F2020%2F06%2F25%2F38804.jpg&amp;type=ofullfill80_80_q75_re2\" width=\"80\"/><span class=\"thmb_v\"></span></a></div> <dl> <dt><a class=\"_sp_each_url _sp_each_title\" href=\"http://www.skyedaily.com/news/news_view.html?ID=107203\" onclick=\"return goOtherCR(this, 'a=nws_all*b.tit&amp;r=8&amp;i=8817ca83_000000000000000000038804&amp;g=5510.0000038804&amp;u='+urlencode(this.href));\" target=\"_blank\" title=\"수심위 손에 놓인 韓경제 명운, 삼성 사법리스크 분수령\">수심위 손에 놓인 韓경제 명운, <strong class=\"hl\">삼성</strong> 사법리스크 분수령</a></dt> <dd class=\"txt_inline\"><span class=\"_sp_each_source\">스카이데일리</span> <span class=\"bar\"></span> 2시간 전 <div class=\"scial\" id=\"sp_nws_all8_base\"> <span class=\"bar\"></span> <a class=\"bt_scial2 naver-splugin\" data-oninitialize=\"splugin_oninitialize('sp_nws_all8');\" data-style=\"unity-v2\" href=\"#\" onclick=\"goOtherTCR(this, 'a=nws_all*b.pplugin&amp;r=8&amp;i=8817ca83_000000000000000000038804&amp;u='+urlencode(this.href)); return false;\">보내기</a> </div> </dd> <dd>사진은 <strong class=\"hl\">삼성전자</strong> 본사 전경. ⓒ스카이데일리 이재용 <strong class=\"hl\">삼성전자</strong> 부회장에 대한 기소 타당성 여부를 판단하는 검찰 수사심의위원회(수사심의위)를 앞두고 <strong class=\"hl\">삼성</strong>그룹은 물론 재계의 긴장감이 높아지고 있다. 수사심의위...</dd> <dd> <ul class=\"relation_lst\"> <li> <span class=\"ico_bu\"></span> <a href=\"http://www.upinews.kr/newsView/upi202006250059\" onclick=\"return goOtherCR(this, 'a=nws_all*d.tit&amp;r=9&amp;i=88155e5c_000000000000000000052742&amp;g=5372.0000052742&amp;u='+urlencode(this.href));\" target=\"_blank\" title=\"다가온 수사심의위…삼성 이재용 부회장의 운명은?\">다가온 수사심의위…<strong class=\"hl\">삼성</strong> 이재용 부회장의 운명은?</a> <span class=\"txt_sinfo\"> <span class=\"press\" title=\"UPI뉴스\">UPI뉴스</span> <span class=\"bar\"></span> 13분 전 </span> </li> <li> <span class=\"ico_bu\"></span> <a href=\"http://www.mediapen.com/news/view/535728\" onclick=\"return goOtherCR(this, 'a=nws_all*d.tit&amp;r=10&amp;i=88135205_000000000000000000303541&amp;g=5244.0000303541&amp;u='+urlencode(this.href));\" target=\"_blank\" title=\"수사심의위 하루 앞둔 삼성, 이재용 사법리스크에 불안감↑\">수사심의위 하루 앞둔 <strong class=\"hl\">삼성</strong>, 이재용 사법리스크에 불안감↑</a> <span class=\"txt_sinfo\"> <span class=\"press\" title=\"미디어펜\">미디어펜</span> <span class=\"bar\"></span> 2시간 전 </span> </li> </ul> <div class=\"newr_more\"> <a class=\"more_news\" href=\"?&amp;where=news&amp;sm=mtb_tnw&amp;query=%EC%82%BC%EC%84%B1%EC%A0%84%EC%9E%90&amp;nso=so:r,p:all,a:all&amp;related=1&amp;docid=55100000038804\" onclick=\"return goOtherCR(this, 'a=nws_all*r.more&amp;r=&amp;i=&amp;u='+urlencode(urlexpand(this.href)));\">관련뉴스 전체보기</a> </div> </dd> </dl> </li>, ' ']\n"
     ]
    }
   ],
   "source": [
    "for element in elements.select('li > dl > dt > a'):\n",
    "    news_title = [element for element in elements]\n",
    "print(news_title)"
   ]
  },
  {
   "cell_type": "code",
   "execution_count": 108,
   "metadata": {},
   "outputs": [],
   "source": [
    "# 함수로 만들기\n",
    "def naver_news_title(query):\n",
    "    query='삼성전자'\n",
    "    url = 'https://search.naver.com/search.naver?sm=top_hty&fbm=1&ie=utf8&query={}'.format(query)\n",
    "    # 2.resquests > response : HTML(str)\n",
    "    response = requests.get(url)\n",
    "    # print(url)\n",
    "    response\n",
    "    # 3.HTML(str) > BeautifulSoup obj (css-selector) > dataframe\n",
    "    resp = BeautifulSoup(response.content, 'html.parser')\n",
    "    elements = resp.select('ul.type01')[2]\n",
    "    news_title = []\n",
    "    for element in elements.select('li > dl > dt'):\n",
    "    #     print(element)\n",
    "        news_title.append(element.text)\n",
    "    return news_title"
   ]
  },
  {
   "cell_type": "code",
   "execution_count": 110,
   "metadata": {},
   "outputs": [
    {
     "data": {
      "text/plain": [
       "[\"'K칩 시대' 선봉장 된 삼성전자\",\n",
       " \"'환급효과'에 건조기 싸질까…삼성·LG, 1등급 경쟁\",\n",
       " '삼성전자, 반도체 생태계 확장해 ‘K칩 시대’ 이끈다',\n",
       " '수심위 손에 놓인 韓경제 명운, 삼성 사법리스크 분수령']"
      ]
     },
     "execution_count": 110,
     "metadata": {},
     "output_type": "execute_result"
    }
   ],
   "source": [
    "result = naver_news_title(query)\n",
    "result"
   ]
  },
  {
   "cell_type": "code",
   "execution_count": 112,
   "metadata": {},
   "outputs": [
    {
     "data": {
      "text/html": [
       "<div>\n",
       "<style scoped>\n",
       "    .dataframe tbody tr th:only-of-type {\n",
       "        vertical-align: middle;\n",
       "    }\n",
       "\n",
       "    .dataframe tbody tr th {\n",
       "        vertical-align: top;\n",
       "    }\n",
       "\n",
       "    .dataframe thead th {\n",
       "        text-align: right;\n",
       "    }\n",
       "</style>\n",
       "<table border=\"1\" class=\"dataframe\">\n",
       "  <thead>\n",
       "    <tr style=\"text-align: right;\">\n",
       "      <th></th>\n",
       "      <th>0</th>\n",
       "    </tr>\n",
       "  </thead>\n",
       "  <tbody>\n",
       "    <tr>\n",
       "      <th>0</th>\n",
       "      <td>'K칩 시대' 선봉장 된 삼성전자</td>\n",
       "    </tr>\n",
       "    <tr>\n",
       "      <th>1</th>\n",
       "      <td>'환급효과'에 건조기 싸질까…삼성·LG, 1등급 경쟁</td>\n",
       "    </tr>\n",
       "    <tr>\n",
       "      <th>2</th>\n",
       "      <td>삼성전자, 반도체 생태계 확장해 ‘K칩 시대’ 이끈다</td>\n",
       "    </tr>\n",
       "    <tr>\n",
       "      <th>3</th>\n",
       "      <td>수심위 손에 놓인 韓경제 명운, 삼성 사법리스크 분수령</td>\n",
       "    </tr>\n",
       "  </tbody>\n",
       "</table>\n",
       "</div>"
      ],
      "text/plain": [
       "                                0\n",
       "0              'K칩 시대' 선봉장 된 삼성전자\n",
       "1   '환급효과'에 건조기 싸질까…삼성·LG, 1등급 경쟁\n",
       "2   삼성전자, 반도체 생태계 확장해 ‘K칩 시대’ 이끈다\n",
       "3  수심위 손에 놓인 韓경제 명운, 삼성 사법리스크 분수령"
      ]
     },
     "execution_count": 112,
     "metadata": {},
     "output_type": "execute_result"
    }
   ],
   "source": [
    "df = pd.DataFrame(result)\n",
    "df"
   ]
  },
  {
   "cell_type": "markdown",
   "metadata": {},
   "source": [
    "#### 다음 뉴스 데이터\n",
    "        - 다음 뉴스의 메인 페이지 15개기사의 제목, 링크, 내용 수집"
   ]
  },
  {
   "cell_type": "code",
   "execution_count": 117,
   "metadata": {},
   "outputs": [
    {
     "data": {
      "text/plain": [
       "12"
      ]
     },
     "execution_count": 117,
     "metadata": {},
     "output_type": "execute_result"
    }
   ],
   "source": [
    "# 1.URL\n",
    "url = 'https://news.daum.net/'\n",
    "# 2.HTML(str)\n",
    "response = requests.get(url)\n",
    "# 3.BS\n",
    "bs = BeautifulSoup(response.content, 'html.parser')\n",
    "elements = bs.select('.list_headline > li:not(.item_main)')\n",
    "len(elements)\n",
    "# 4."
   ]
  },
  {
   "cell_type": "code",
   "execution_count": 119,
   "metadata": {},
   "outputs": [
    {
     "data": {
      "text/plain": [
       "[<li>\n",
       " <strong class=\"tit_g\">\n",
       " <a class=\"link_txt\" data-tiara-custom=\"contentUniqueKey=hamny-20200625164120888\" data-tiara-id=\"20200625164120888\" data-tiara-layer=\"article\" data-tiara-ordnum=\"5\" data-tiara-type=\"harmony\" href=\"https://news.v.daum.net/v/20200625164120888\">안산 다른 유치원서도 원아·교사 9명 식중독 증상</a>\n",
       " <span class=\"info_news\">연합뉴스</span>\n",
       " </strong>\n",
       " </li>,\n",
       " <li>\n",
       " <strong class=\"tit_g\">\n",
       " <a class=\"link_txt\" data-tiara-custom=\"contentUniqueKey=hamny-20200625164047865\" data-tiara-id=\"20200625164047865\" data-tiara-layer=\"article\" data-tiara-ordnum=\"6\" data-tiara-type=\"harmony\" href=\"https://news.v.daum.net/v/20200625164047865\">인도 하루 확진자 1만6922명..봉쇄 완화 후폭풍 우려</a>\n",
       " <span class=\"info_news\">뉴시스</span>\n",
       " </strong>\n",
       " </li>,\n",
       " <li>\n",
       " <strong class=\"tit_g\">\n",
       " <a class=\"link_txt\" data-tiara-custom=\"contentUniqueKey=hamny-20200625163345514\" data-tiara-id=\"20200625163345514\" data-tiara-layer=\"article\" data-tiara-ordnum=\"7\" data-tiara-type=\"harmony\" href=\"https://news.v.daum.net/v/20200625163345514\">강원서 SFTS 환자 잇따라..올해 들어 5명 발생</a>\n",
       " <span class=\"info_news\">연합뉴스</span>\n",
       " </strong>\n",
       " </li>,\n",
       " <li>\n",
       " <strong class=\"tit_g\">\n",
       " <a class=\"link_txt\" data-tiara-custom=\"contentUniqueKey=hamny-20200625163322499\" data-tiara-id=\"20200625163322499\" data-tiara-layer=\"article\" data-tiara-ordnum=\"8\" data-tiara-type=\"harmony\" href=\"https://news.v.daum.net/v/20200625163322499\">\"안산 유치원 14명 '햄버거병' 증세..5명 투석 치료중\"</a>\n",
       " <span class=\"info_news\">연합뉴스</span>\n",
       " </strong>\n",
       " </li>,\n",
       " <li>\n",
       " <strong class=\"tit_g\">\n",
       " <a class=\"link_txt\" data-tiara-custom=\"contentUniqueKey=hamny-20200625162921276\" data-tiara-id=\"20200625162921276\" data-tiara-layer=\"article\" data-tiara-ordnum=\"9\" data-tiara-type=\"harmony\" href=\"https://news.v.daum.net/v/20200625162921276\">일본검찰, 불법 조위금 스가와라 전 경산상 불기소</a>\n",
       " <span class=\"info_news\">연합뉴스</span>\n",
       " </strong>\n",
       " </li>,\n",
       " <li>\n",
       " <strong class=\"tit_g\">\n",
       " <a class=\"link_txt\" data-tiara-custom=\"contentUniqueKey=hamny-20200625162727198\" data-tiara-id=\"20200625162727198\" data-tiara-layer=\"article\" data-tiara-ordnum=\"10\" data-tiara-type=\"harmony\" href=\"https://news.v.daum.net/v/20200625162727198\">'보안 뻥 뚫린' 국방과학연구소..퇴직자, USB에 기밀 담아 출국</a>\n",
       " <span class=\"info_news\">연합뉴스</span>\n",
       " </strong>\n",
       " </li>,\n",
       " <li>\n",
       " <strong class=\"tit_g\">\n",
       " <a class=\"link_txt\" data-tiara-custom=\"contentUniqueKey=hamny-20200625162411035\" data-tiara-id=\"20200625162411035\" data-tiara-layer=\"article\" data-tiara-ordnum=\"11\" data-tiara-type=\"harmony\" href=\"https://news.v.daum.net/v/20200625162411035\">내년 최저임금 본격 줄다리기..\"1만원 인상\" vs \"소상공인 벼랑끝\"</a>\n",
       " <span class=\"info_news\">뉴스1</span>\n",
       " </strong>\n",
       " </li>,\n",
       " <li>\n",
       " <strong class=\"tit_g\">\n",
       " <a class=\"link_txt\" data-tiara-custom=\"contentUniqueKey=hamny-20200625162133933\" data-tiara-id=\"20200625162133933\" data-tiara-layer=\"article\" data-tiara-ordnum=\"12\" data-tiara-type=\"harmony\" href=\"https://news.v.daum.net/v/20200625162133933\">법원 \"여성 동료 몰카 찍은 청주시 공무원 해임 정당\"</a>\n",
       " <span class=\"info_news\">연합뉴스</span>\n",
       " </strong>\n",
       " </li>,\n",
       " <li>\n",
       " <strong class=\"tit_g\">\n",
       " <a class=\"link_txt\" data-tiara-custom=\"contentUniqueKey=hamny-20200625162132932\" data-tiara-id=\"20200625162132932\" data-tiara-layer=\"article\" data-tiara-ordnum=\"13\" data-tiara-type=\"harmony\" href=\"https://news.v.daum.net/v/20200625162132932\">코로나 모범생 베트남, 계속해서 관광객 입국 금지한다</a>\n",
       " <span class=\"info_news\">뉴스1</span>\n",
       " </strong>\n",
       " </li>,\n",
       " <li>\n",
       " <strong class=\"tit_g\">\n",
       " <a class=\"link_txt\" data-tiara-custom=\"contentUniqueKey=hamny-20200625161712753\" data-tiara-id=\"20200625161712753\" data-tiara-layer=\"article\" data-tiara-ordnum=\"14\" data-tiara-type=\"harmony\" href=\"https://news.v.daum.net/v/20200625161712753\">'깜깜이' 환자 11.5%, 2주간 71명..\"통제 못할 수도\"</a>\n",
       " <span class=\"info_news\">뉴시스</span>\n",
       " </strong>\n",
       " </li>,\n",
       " <li>\n",
       " <strong class=\"tit_g\">\n",
       " <a class=\"link_txt\" data-tiara-custom=\"contentUniqueKey=hamny-20200625161602691\" data-tiara-id=\"20200625161602691\" data-tiara-layer=\"article\" data-tiara-ordnum=\"15\" data-tiara-type=\"harmony\" href=\"https://news.v.daum.net/v/20200625161602691\">자동차 동호회 8일 음식점서 감염 추정..열흘이상 활동 후 확진</a>\n",
       " <span class=\"info_news\">연합뉴스</span>\n",
       " </strong>\n",
       " </li>,\n",
       " <li>\n",
       " <strong class=\"tit_g\">\n",
       " <a class=\"link_txt\" data-tiara-custom=\"contentUniqueKey=hamny-20200625161513651\" data-tiara-id=\"20200625161513651\" data-tiara-layer=\"article\" data-tiara-ordnum=\"16\" data-tiara-type=\"harmony\" href=\"https://news.v.daum.net/v/20200625161513651\">검찰, '환매중단' 옵티머스 등 18곳 대대적 압수수색</a>\n",
       " <span class=\"info_news\">연합뉴스</span>\n",
       " </strong>\n",
       " </li>]"
      ]
     },
     "execution_count": 119,
     "metadata": {},
     "output_type": "execute_result"
    }
   ],
   "source": [
    "elements"
   ]
  },
  {
   "cell_type": "code",
   "execution_count": 127,
   "metadata": {},
   "outputs": [
    {
     "data": {
      "text/html": [
       "<div>\n",
       "<style scoped>\n",
       "    .dataframe tbody tr th:only-of-type {\n",
       "        vertical-align: middle;\n",
       "    }\n",
       "\n",
       "    .dataframe tbody tr th {\n",
       "        vertical-align: top;\n",
       "    }\n",
       "\n",
       "    .dataframe thead th {\n",
       "        text-align: right;\n",
       "    }\n",
       "</style>\n",
       "<table border=\"1\" class=\"dataframe\">\n",
       "  <thead>\n",
       "    <tr style=\"text-align: right;\">\n",
       "      <th></th>\n",
       "      <th>title</th>\n",
       "      <th>link</th>\n",
       "    </tr>\n",
       "  </thead>\n",
       "  <tbody>\n",
       "    <tr>\n",
       "      <th>0</th>\n",
       "      <td>안산 다른 유치원서도 원아·교사 9명 식중독 증상연합뉴스</td>\n",
       "      <td>https://news.v.daum.net/v/20200625164120888</td>\n",
       "    </tr>\n",
       "    <tr>\n",
       "      <th>1</th>\n",
       "      <td>인도 하루 확진자 1만6922명..봉쇄 완화 후폭풍 우려뉴시스</td>\n",
       "      <td>https://news.v.daum.net/v/20200625164047865</td>\n",
       "    </tr>\n",
       "    <tr>\n",
       "      <th>2</th>\n",
       "      <td>강원서 SFTS 환자 잇따라..올해 들어 5명 발생연합뉴스</td>\n",
       "      <td>https://news.v.daum.net/v/20200625163345514</td>\n",
       "    </tr>\n",
       "    <tr>\n",
       "      <th>3</th>\n",
       "      <td>\"안산 유치원 14명 '햄버거병' 증세..5명 투석 치료중\"연합뉴스</td>\n",
       "      <td>https://news.v.daum.net/v/20200625163322499</td>\n",
       "    </tr>\n",
       "    <tr>\n",
       "      <th>4</th>\n",
       "      <td>일본검찰, 불법 조위금 스가와라 전 경산상 불기소연합뉴스</td>\n",
       "      <td>https://news.v.daum.net/v/20200625162921276</td>\n",
       "    </tr>\n",
       "    <tr>\n",
       "      <th>5</th>\n",
       "      <td>'보안 뻥 뚫린' 국방과학연구소..퇴직자, USB에 기밀 담아 출국연합뉴스</td>\n",
       "      <td>https://news.v.daum.net/v/20200625162727198</td>\n",
       "    </tr>\n",
       "    <tr>\n",
       "      <th>6</th>\n",
       "      <td>내년 최저임금 본격 줄다리기..\"1만원 인상\" vs \"소상공인 벼랑끝\"뉴스1</td>\n",
       "      <td>https://news.v.daum.net/v/20200625162411035</td>\n",
       "    </tr>\n",
       "    <tr>\n",
       "      <th>7</th>\n",
       "      <td>법원 \"여성 동료 몰카 찍은 청주시 공무원 해임 정당\"연합뉴스</td>\n",
       "      <td>https://news.v.daum.net/v/20200625162133933</td>\n",
       "    </tr>\n",
       "    <tr>\n",
       "      <th>8</th>\n",
       "      <td>코로나 모범생 베트남, 계속해서 관광객 입국 금지한다뉴스1</td>\n",
       "      <td>https://news.v.daum.net/v/20200625162132932</td>\n",
       "    </tr>\n",
       "    <tr>\n",
       "      <th>9</th>\n",
       "      <td>'깜깜이' 환자 11.5%, 2주간 71명..\"통제 못할 수도\"뉴시스</td>\n",
       "      <td>https://news.v.daum.net/v/20200625161712753</td>\n",
       "    </tr>\n",
       "    <tr>\n",
       "      <th>10</th>\n",
       "      <td>자동차 동호회 8일 음식점서 감염 추정..열흘이상 활동 후 확진연합뉴스</td>\n",
       "      <td>https://news.v.daum.net/v/20200625161602691</td>\n",
       "    </tr>\n",
       "    <tr>\n",
       "      <th>11</th>\n",
       "      <td>검찰, '환매중단' 옵티머스 등 18곳 대대적 압수수색연합뉴스</td>\n",
       "      <td>https://news.v.daum.net/v/20200625161513651</td>\n",
       "    </tr>\n",
       "  </tbody>\n",
       "</table>\n",
       "</div>"
      ],
      "text/plain": [
       "                                         title  \\\n",
       "0              안산 다른 유치원서도 원아·교사 9명 식중독 증상연합뉴스   \n",
       "1           인도 하루 확진자 1만6922명..봉쇄 완화 후폭풍 우려뉴시스   \n",
       "2             강원서 SFTS 환자 잇따라..올해 들어 5명 발생연합뉴스   \n",
       "3        \"안산 유치원 14명 '햄버거병' 증세..5명 투석 치료중\"연합뉴스   \n",
       "4              일본검찰, 불법 조위금 스가와라 전 경산상 불기소연합뉴스   \n",
       "5    '보안 뻥 뚫린' 국방과학연구소..퇴직자, USB에 기밀 담아 출국연합뉴스   \n",
       "6   내년 최저임금 본격 줄다리기..\"1만원 인상\" vs \"소상공인 벼랑끝\"뉴스1   \n",
       "7           법원 \"여성 동료 몰카 찍은 청주시 공무원 해임 정당\"연합뉴스   \n",
       "8             코로나 모범생 베트남, 계속해서 관광객 입국 금지한다뉴스1   \n",
       "9       '깜깜이' 환자 11.5%, 2주간 71명..\"통제 못할 수도\"뉴시스   \n",
       "10     자동차 동호회 8일 음식점서 감염 추정..열흘이상 활동 후 확진연합뉴스   \n",
       "11          검찰, '환매중단' 옵티머스 등 18곳 대대적 압수수색연합뉴스   \n",
       "\n",
       "                                           link  \n",
       "0   https://news.v.daum.net/v/20200625164120888  \n",
       "1   https://news.v.daum.net/v/20200625164047865  \n",
       "2   https://news.v.daum.net/v/20200625163345514  \n",
       "3   https://news.v.daum.net/v/20200625163322499  \n",
       "4   https://news.v.daum.net/v/20200625162921276  \n",
       "5   https://news.v.daum.net/v/20200625162727198  \n",
       "6   https://news.v.daum.net/v/20200625162411035  \n",
       "7   https://news.v.daum.net/v/20200625162133933  \n",
       "8   https://news.v.daum.net/v/20200625162132932  \n",
       "9   https://news.v.daum.net/v/20200625161712753  \n",
       "10  https://news.v.daum.net/v/20200625161602691  \n",
       "11  https://news.v.daum.net/v/20200625161513651  "
      ]
     },
     "execution_count": 127,
     "metadata": {},
     "output_type": "execute_result"
    }
   ],
   "source": [
    "datas = []\n",
    "for element in elements:\n",
    "    datas.append({\n",
    "        'title':element.select_one('.tit_g').text.strip().replace('\\n', ''),\n",
    "        'link' :element.select_one('a').get('href')\n",
    "    })\n",
    "articles_df = pd.DataFrame(datas)\n",
    "articles_df"
   ]
  },
  {
   "cell_type": "code",
   "execution_count": null,
   "metadata": {},
   "outputs": [],
   "source": [
    "# content 데이터 추가"
   ]
  },
  {
   "cell_type": "code",
   "execution_count": 129,
   "metadata": {},
   "outputs": [
    {
     "name": "stdout",
     "output_type": "stream",
     "text": [
      "https://news.v.daum.net/v/20200625164120888\n"
     ]
    }
   ],
   "source": [
    "link = articles_df.loc[0, 'link']\n",
    "print(link)"
   ]
  },
  {
   "cell_type": "code",
   "execution_count": 138,
   "metadata": {},
   "outputs": [
    {
     "data": {
      "text/plain": [
       "'(안산=연합뉴스) 최찬흥 기자 = 경기 안산시 상록구의 한 사립유치원에서 집단 식중독 사고가 발생한 가운데 같은 구의 다른 사립유치원에서도 원아와 교사가 식중독 증상을 보여 보건당국이 역학조사에 나섰다.            [식품의약품안전처 제공]           안산시는 상록구 A유치원에서 원아 8명과 교사 1명이 노로바이러스로 의심되는 식중독 증상을 호소해 보조식과 검체, 유증상자에 대한 조사를 벌이고 있다고 25일 밝혔다.이 유치원에서는 지난 22일 첫 유증상자가 발생해 이날까지 증상을 호소하는 원생과 교사가 차례로 늘어났다.해당 유치원에는 167명의 원아가 재원중이며 교직원·조리 종사자 28명이 근무 중이다.안산시 상록구보건소 관계자는 \"A유치원은 집단 식중독이 발생한 상록구의 다른 유치원과 10㎞ 거리인 데다 식자재 공급 등에서 별 연관이 없는 것으로 알고 있다\"며 \"A유치원은 구토가 주 증상인데 앞서 발생한 유치원은 설사가 주 증상으로 차이가 있다\"고 말했다.보건당국은 A유치원에 대한 역학조사를 진행 중이며 아직 폐쇄 명령 등은 결정되지 않았다.앞서 상록구 다른 유치원에서는 지난 16일 이후 식중독 증상을 호소하는 원생과 교사 등이 이날까지 100명 안팎으로 늘어났으며 이 가운데 일부는 합병증인 용혈성요독증후군(HUS·일명 햄버거병) 증상을 보이는 것으로 전해졌다.유증상자 가운데 원아 42명과 교사 1명에게서는 장출혈성대장균이 검출되기도 했다.chan@yna.co.kr'"
      ]
     },
     "execution_count": 138,
     "metadata": {},
     "output_type": "execute_result"
    }
   ],
   "source": [
    "response = requests.get(link)\n",
    "resp = BeautifulSoup(response.content, 'html.parser')\n",
    "contents = resp.select_one('#harmonyContainer').text.strip().replace('\\n', '')\n",
    "contents"
   ]
  },
  {
   "cell_type": "code",
   "execution_count": 139,
   "metadata": {},
   "outputs": [],
   "source": [
    "def get_content(link):\n",
    "    response = requests.get(link)\n",
    "    resp = BeautifulSoup(response.content, 'html.parser')\n",
    "    contents = resp.select_one('#harmonyContainer').text.strip().replace('\\n', '')\n",
    "    return contents"
   ]
  },
  {
   "cell_type": "code",
   "execution_count": 144,
   "metadata": {},
   "outputs": [
    {
     "data": {
      "text/html": [
       "<div>\n",
       "<style scoped>\n",
       "    .dataframe tbody tr th:only-of-type {\n",
       "        vertical-align: middle;\n",
       "    }\n",
       "\n",
       "    .dataframe tbody tr th {\n",
       "        vertical-align: top;\n",
       "    }\n",
       "\n",
       "    .dataframe thead th {\n",
       "        text-align: right;\n",
       "    }\n",
       "</style>\n",
       "<table border=\"1\" class=\"dataframe\">\n",
       "  <thead>\n",
       "    <tr style=\"text-align: right;\">\n",
       "      <th></th>\n",
       "      <th>title</th>\n",
       "      <th>link</th>\n",
       "      <th>contents</th>\n",
       "    </tr>\n",
       "  </thead>\n",
       "  <tbody>\n",
       "    <tr>\n",
       "      <th>7</th>\n",
       "      <td>법원 \"여성 동료 몰카 찍은 청주시 공무원 해임 정당\"연합뉴스</td>\n",
       "      <td>https://news.v.daum.net/v/20200625162133933</td>\n",
       "      <td>(청주=연합뉴스) 이승민 기자 = 여성 동료 직원의 신체를 몰래 촬영한 공무원에 대...</td>\n",
       "    </tr>\n",
       "    <tr>\n",
       "      <th>8</th>\n",
       "      <td>코로나 모범생 베트남, 계속해서 관광객 입국 금지한다뉴스1</td>\n",
       "      <td>https://news.v.daum.net/v/20200625162132932</td>\n",
       "      <td>베트남. (자료사진) © AFP=뉴스1           (서울=뉴스1) 김서연 기...</td>\n",
       "    </tr>\n",
       "    <tr>\n",
       "      <th>9</th>\n",
       "      <td>'깜깜이' 환자 11.5%, 2주간 71명..\"통제 못할 수도\"뉴시스</td>\n",
       "      <td>https://news.v.daum.net/v/20200625161712753</td>\n",
       "      <td>[서울=뉴시스] 지난 18일 서울 강북구 보건소 선별진료소 관계자가 코로나19 진단...</td>\n",
       "    </tr>\n",
       "    <tr>\n",
       "      <th>10</th>\n",
       "      <td>자동차 동호회 8일 음식점서 감염 추정..열흘이상 활동 후 확진연합뉴스</td>\n",
       "      <td>https://news.v.daum.net/v/20200625161602691</td>\n",
       "      <td>(서울=연합뉴스) 신선미 홍규빈 기자 = 자동차 동호회 모임과 관련해 신종 코로나바...</td>\n",
       "    </tr>\n",
       "    <tr>\n",
       "      <th>11</th>\n",
       "      <td>검찰, '환매중단' 옵티머스 등 18곳 대대적 압수수색연합뉴스</td>\n",
       "      <td>https://news.v.daum.net/v/20200625161513651</td>\n",
       "      <td>'환매중단' 옵티머스펀드 판매사들, 운용사 사기혐의로 고발 (서울=연합뉴스) 이재희...</td>\n",
       "    </tr>\n",
       "  </tbody>\n",
       "</table>\n",
       "</div>"
      ],
      "text/plain": [
       "                                      title  \\\n",
       "7        법원 \"여성 동료 몰카 찍은 청주시 공무원 해임 정당\"연합뉴스   \n",
       "8          코로나 모범생 베트남, 계속해서 관광객 입국 금지한다뉴스1   \n",
       "9    '깜깜이' 환자 11.5%, 2주간 71명..\"통제 못할 수도\"뉴시스   \n",
       "10  자동차 동호회 8일 음식점서 감염 추정..열흘이상 활동 후 확진연합뉴스   \n",
       "11       검찰, '환매중단' 옵티머스 등 18곳 대대적 압수수색연합뉴스   \n",
       "\n",
       "                                           link  \\\n",
       "7   https://news.v.daum.net/v/20200625162133933   \n",
       "8   https://news.v.daum.net/v/20200625162132932   \n",
       "9   https://news.v.daum.net/v/20200625161712753   \n",
       "10  https://news.v.daum.net/v/20200625161602691   \n",
       "11  https://news.v.daum.net/v/20200625161513651   \n",
       "\n",
       "                                             contents  \n",
       "7   (청주=연합뉴스) 이승민 기자 = 여성 동료 직원의 신체를 몰래 촬영한 공무원에 대...  \n",
       "8   베트남. (자료사진) © AFP=뉴스1           (서울=뉴스1) 김서연 기...  \n",
       "9   [서울=뉴시스] 지난 18일 서울 강북구 보건소 선별진료소 관계자가 코로나19 진단...  \n",
       "10  (서울=연합뉴스) 신선미 홍규빈 기자 = 자동차 동호회 모임과 관련해 신종 코로나바...  \n",
       "11  '환매중단' 옵티머스펀드 판매사들, 운용사 사기혐의로 고발 (서울=연합뉴스) 이재희...  "
      ]
     },
     "execution_count": 144,
     "metadata": {},
     "output_type": "execute_result"
    }
   ],
   "source": [
    "articles_df['contents'] = articles_df['link'].apply(get_content)\n",
    "articles_df.tail()"
   ]
  }
 ],
 "metadata": {
  "kernelspec": {
   "display_name": "Python 3",
   "language": "python",
   "name": "python3"
  },
  "language_info": {
   "codemirror_mode": {
    "name": "ipython",
    "version": 3
   },
   "file_extension": ".py",
   "mimetype": "text/x-python",
   "name": "python",
   "nbconvert_exporter": "python",
   "pygments_lexer": "ipython3",
   "version": "3.7.4"
  }
 },
 "nbformat": 4,
 "nbformat_minor": 4
}
