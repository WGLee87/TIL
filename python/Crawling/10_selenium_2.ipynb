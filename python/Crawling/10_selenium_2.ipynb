{
 "cells": [
  {
   "cell_type": "markdown",
   "metadata": {},
   "source": [
    "#### 네이버 기사 제목 데이터 크롤링\n",
    "    - selenium을 이용한 텍스트 데이터 수집\n",
    "    - thread를 사용한 데이터 수집"
   ]
  },
  {
   "cell_type": "code",
   "execution_count": 1,
   "metadata": {},
   "outputs": [],
   "source": [
    "from selenium import webdriver"
   ]
  },
  {
   "cell_type": "code",
   "execution_count": 2,
   "metadata": {},
   "outputs": [],
   "source": [
    "page = 1\n",
    "url = 'https://news.naver.com/main/main.nhn?mode=LSD&mid=shm&sid1=105#&date=%2000:00:00&page={}'.format(page)"
   ]
  },
  {
   "cell_type": "code",
   "execution_count": 3,
   "metadata": {},
   "outputs": [],
   "source": [
    "driver = webdriver.Chrome()\n",
    "driver.get(url)"
   ]
  },
  {
   "cell_type": "code",
   "execution_count": 5,
   "metadata": {},
   "outputs": [
    {
     "data": {
      "text/plain": [
       "20"
      ]
     },
     "execution_count": 5,
     "metadata": {},
     "output_type": "execute_result"
    }
   ],
   "source": [
    "articles = driver.find_elements_by_css_selector('#section_body li')\n",
    "len(articles)"
   ]
  },
  {
   "cell_type": "code",
   "execution_count": 9,
   "metadata": {},
   "outputs": [
    {
     "data": {
      "text/plain": [
       "'‘언택트 산업’ 블루오션 급부상… 게임사에 투자 쏠린다'"
      ]
     },
     "execution_count": 9,
     "metadata": {},
     "output_type": "execute_result"
    }
   ],
   "source": [
    "articles[0].find_element_by_css_selector('dt:not(.photo) > a').text"
   ]
  },
  {
   "cell_type": "code",
   "execution_count": 18,
   "metadata": {},
   "outputs": [],
   "source": [
    "article_list = []\n",
    "\n",
    "for article in articles:\n",
    "    title = article.find_element_by_css_selector('dt:not(.photo) > a').text\n",
    "    article_list.append(title)"
   ]
  },
  {
   "cell_type": "code",
   "execution_count": 20,
   "metadata": {},
   "outputs": [],
   "source": [
    "driver.quit()"
   ]
  },
  {
   "cell_type": "code",
   "execution_count": 21,
   "metadata": {},
   "outputs": [],
   "source": [
    "# 함수로 만들기\n",
    "article_list = []\n",
    "\n",
    "def get_articles(page):\n",
    "    driver = webdriver.Chrome()\n",
    "    url = 'https://news.naver.com/main/main.nhn?mode=LSD&mid=shm&sid1=105#&date=%2000:00:00&page={}'.format(page)\n",
    "    driver.get(url)\n",
    "    articles = driver.find_elements_by_css_selector('#section_body li')\n",
    "    for article in articles:\n",
    "        title = article.find_element_by_css_selector('dt:not(.photo) > a').text\n",
    "        article_list.append(title)\n",
    "    print('crawling {}'.format(page))\n",
    "    driver.quit()"
   ]
  },
  {
   "cell_type": "code",
   "execution_count": 22,
   "metadata": {},
   "outputs": [
    {
     "name": "stdout",
     "output_type": "stream",
     "text": [
      "crawling 1\n",
      "crawling 2\n",
      "crawling 3\n",
      "crawling 4\n",
      "CPU times: user 279 ms, sys: 65.8 ms, total: 344 ms\n",
      "Wall time: 17.5 s\n"
     ]
    }
   ],
   "source": [
    "%%time\n",
    "for page in range(1,5):\n",
    "    get_articles(page)"
   ]
  },
  {
   "cell_type": "code",
   "execution_count": 23,
   "metadata": {
    "scrolled": true
   },
   "outputs": [
    {
     "data": {
      "text/plain": [
       "['‘언택트 산업’ 블루오션 급부상… 게임사에 투자 쏠린다',\n",
       " '[리뷰] 레노버 씽크패드 P15s, 콘텐츠 제작용 워크스테이션 노트북',\n",
       " '그린뉴딜-미래차는 不可分…\"우리가 선점하자\"',\n",
       " '액셀러레이터 골드아크 손자랑 매니저 \"스타트업과 함께 걷고, 함께 성장하고 있습니다\"',\n",
       " '싸이월드 \\'운명의 날\\'은 8월로…전 대표 \"여러 곳과 접촉 중\"',\n",
       " 'AI품은 스마트 심전도 패치… \"심혈관질환 예방·치료 획 긋겠다\"',\n",
       " \"'차세대 중형위성' 올 하반기 발사에 코로나19 '불똥'\",\n",
       " '\"배그의 아버지, 정점에 서다\"…크래프톤, \\'김창한 시대\\' 연다',\n",
       " '\"때아닌\" 거래소 인수 젠서, 무슨 이유로?',\n",
       " '구글, 방통위 시정명령에 ‘백기투항’…유튜브 과금체계 바꾼다',\n",
       " \"불 나서 KT망 끊겼다?…SKT·LGU+망으로 '전화·카톡' 다 된다(종합)\",\n",
       " '\"코로나19로 게임 순기능 부각? 명암 살펴야\"',\n",
       " '\"종이고지서 모바일로 바꾸니 65억 절감\"…전자고지 발송량 8배 급증',\n",
       " '“통신 블랙아웃 막자”... 과기정통부·이통3사, 재난 로밍 구축',\n",
       " '[단독] 수출 \\'잭팟\\' 터트린 알테오젠 대표 \"계약금이 적다고요?\"',\n",
       " '\"통신재난 발생해도 통화·문자·카톡할 수 있다\" (종합)',\n",
       " '\"메디톡신 빈자리 잡아라\"…보톡스 시장 \\'후끈\\'',\n",
       " \"5G 가입자 생각보다 안늘자…통신사 '진짜 5G' 미뤘다\",\n",
       " '세금고지도 카톡·문자로…모바일 전자고지 2년새 19배↑',\n",
       " '싸이월드 대표 \"사진 등 데이터 문제없어…투자무산시 백업기능\"(종합)',\n",
       " '데이터 일꾼 공급하는 스타트업에…지원자 16만명 몰렸다',\n",
       " '“초미세 플라스틱, 농작물 뿌리에 흡수…성장 방해하고 영양가 낮춰”',\n",
       " '“재난 발생해도 통신 이상무”..SKT·KT·LG U+ 재난로밍 시작',\n",
       " '개인별 음원 정산방식 도입한 네이버, “바이브 내 20% 적용”',\n",
       " \"낯선사람 실시간 포착… 현관 앞 공포 없애는 '캡스홈' 호평\",\n",
       " \"구글 번역 앞섰다는 '하이브리드 번역', 무얼 의미하나?\",\n",
       " '8년전 과거 발목 잡힌 삼성·애플...‘밀어서 잠금해제’ 소송 당했다',\n",
       " \"KT·LGU+ 끊기면 SKT로 연결한다…재난로밍 '이상무'\",\n",
       " '“종이 없애니 65억 절감”…모바일 전자고지 성과 어땠나',\n",
       " '보안회사 대표 20년 하며 배운 것 \"조바심이 실패 지름길\"',\n",
       " '최기영 \"모바일 전자고지로 종이 없는 사회 앞당긴다\"',\n",
       " '“연예인 ‘딥페이크’ 천 여개 유통 확인”…방심위, 성범죄정보 52건 접속차단',\n",
       " '[영상] 싸이월드 대표 “고객 데이터 다 보관돼 있다…돌려드린다 약속”',\n",
       " \"IPO 흥행 노리는 카카오게임즈, 하반기 '띵작'으로 국내외 시장 공략\",\n",
       " \"'전독시' 한달 매출 16억원...웹소설, 로맨스 아니어도 잘 팔리네\",\n",
       " \"'현미경자리 AU'서 10여년 관측 끝에 해왕성급 행성 찾아내\",\n",
       " \"사용후핵연료 재검토위원장 사퇴…공론화 '안갯속으로'\",\n",
       " '크로스핏 창시자 \"플로이드 애도 안해\"…논란 일자 회사 팔아',\n",
       " \"선명한 '갤럭시워치3'…투톤 디자인 채택\",\n",
       " '[사이언스N사피엔스] 열역학과 엔트로피',\n",
       " \"구글도 역성장?…인터넷 광고, '코로나 쇼크' 우려\",\n",
       " '‘연예인·지인 얼굴을 음란물’에... 방심위, ‘딥페이크’ 사이트 차단',\n",
       " '\"이용자 10만·매출 10억↑\"…방통위, n번방 방지법 시행령 초안 제시',\n",
       " '과기정통부-이통사, \"세계최초 통신재난대비 비상로밍 서비스 가동\"',\n",
       " '[이슈분석] 시스템반도체 육성전략 1년…\"업계에 \\'훈풍\\' 불었지만, 인력·툴 지원 더 강화해야\"',\n",
       " '모바일 전자고지, 2023년까지 2조원대 시장 창출 전망',\n",
       " '삼성 스마트폰, 코로나 충격 딛고 가파른 회복세... 1위 탈환 초읽기',\n",
       " '[아하! 우주] 태양보다 어린 별 공전하는 외계행성…지구 진화 비밀 풀까',\n",
       " '통신 재난 문제없다…‘로밍’으로 통화 연결',\n",
       " \"화재·테러에도 휴대폰 불통 사태 없다…'이동통신재난로밍' 시작\",\n",
       " '“불나서 마비돼도 다른 통신사 망 이용”..이통3사 재난로밍 상용화',\n",
       " \"'이동통신 재난 로밍'으로 제2의 아현 화재 막는다\",\n",
       " '제약바이오협회·10개 제약사, 美 보스턴에 진출',\n",
       " '이통3사 재난 로밍 서비스 시연… “휴대폰 먹통 막는다”',\n",
       " \"제2 아현 KT화재 막는다…이통3사 '재난 로밍' 전용망 완성\",\n",
       " '\"화재로 통신서비스 끊기면 다른 통신사로 통화·문자\"',\n",
       " '‘컴퓨터는 늘 실수한다’... 얼굴인식 기술, 엉뚱한 사람 범인 만들다',\n",
       " '[스타트업 리포트] 일본, 한국 스타트업 투자 늘린다…카카오, 스푼, 채널톡, 강남언니 등 관심',\n",
       " '[핵잼 사이언스] 신비한 ‘8번째 대륙’ 질랜디아 새 지도 공개',\n",
       " '‘5배 빠른 와이파이’ 길 열렸다…6GHz 대역 비면허 주파수 공급 확정',\n",
       " '화웨이 \"비즈니스용 5G 확대 위해 통합된 표준 필요\"',\n",
       " '“카톡서 바로 11번가 쇼핑”···SKT-카카오 두 번째 협업',\n",
       " \"방심위, 연예인·지인 '딥페이크' 영상사이트 등 52건 시정요구\",\n",
       " '‘K칩 시대’ 위해 협력사와 머리 맞대는 삼성전자',\n",
       " '\"호갱 이제 그만\" 유튜브 프리미엄 해지하면 남은 돈 환불',\n",
       " '日, 올림푸스 카메라 사업 매각… 쪼그라드는 ‘디카’',\n",
       " \"SK매직 '매출 1조 클럽' 간다…렌털계정 190만 돌파\",\n",
       " \"'싸이월드' 살리려면 얼마 필요할까? 전제완 대표가 밝힌 액수\",\n",
       " '이주열 \"코로나19 진정되도 저물가 유지될 것\"',\n",
       " '도시 경관 살리는 알록달록 박막 태양전지 개발',\n",
       " '폰카에 밀린 디카…올림푸스 84년만에 카메라 사업 철수',\n",
       " '과기정통부, 6GHz대역 비면허 용도로 개방...와이파이·산업용 5G 혁신 촉진',\n",
       " '[코로나에 뜬 아바타] 침체기 겪던 VR산업…`아바타 소통`에 투자하는 기업들',\n",
       " '[단독]‘밀어서 잠금해제’ 이제 못쓰나?...삼성·애플 동시에 특허소송',\n",
       " \"위메이드, '미르의 전설2' 싱가포르 중재서 中상대 승소\",\n",
       " \"하반기 기대감 커지는 반·디 업계...'실적 개선' 전망\",\n",
       " '이엔플러스, 2차전지 사업 본격화…“전기차 주행거리 늘린다”',\n",
       " '\"아이폰13도 부탁해\"…굳건한 애플 동맹',\n",
       " '안산 유치원생 99명 \\'햄버거병\\' 증세… \"감염우려 음식 익혀 먹어야”',\n",
       " '이재용 기소냐 불기냐…檢심의위 D-1']"
      ]
     },
     "execution_count": 23,
     "metadata": {},
     "output_type": "execute_result"
    }
   ],
   "source": [
    "article_list"
   ]
  },
  {
   "cell_type": "markdown",
   "metadata": {},
   "source": [
    "thread 사용"
   ]
  },
  {
   "cell_type": "code",
   "execution_count": 27,
   "metadata": {},
   "outputs": [],
   "source": [
    "import threading\n",
    "article_list = []\n",
    "\n",
    "for page in range(1,5):\n",
    "    th = threading.Thread(target=get_articles, args=(page,))\n",
    "    th.start()"
   ]
  },
  {
   "cell_type": "code",
   "execution_count": 28,
   "metadata": {},
   "outputs": [
    {
     "name": "stdout",
     "output_type": "stream",
     "text": [
      "123456crawling 1\n",
      "7crawling 4\n",
      "crawling 3\n",
      "89crawling 2\n",
      "10"
     ]
    }
   ],
   "source": [
    "import time\n",
    "sec = 0\n",
    "while len(article_list) < 80:\n",
    "    time.sleep(1)\n",
    "    sec += 1\n",
    "    print(sec, end='')"
   ]
  },
  {
   "cell_type": "code",
   "execution_count": null,
   "metadata": {},
   "outputs": [],
   "source": []
  },
  {
   "cell_type": "code",
   "execution_count": null,
   "metadata": {},
   "outputs": [],
   "source": []
  },
  {
   "cell_type": "code",
   "execution_count": null,
   "metadata": {},
   "outputs": [],
   "source": []
  },
  {
   "cell_type": "code",
   "execution_count": null,
   "metadata": {},
   "outputs": [],
   "source": []
  }
 ],
 "metadata": {
  "kernelspec": {
   "display_name": "Python 3",
   "language": "python",
   "name": "python3"
  },
  "language_info": {
   "codemirror_mode": {
    "name": "ipython",
    "version": 3
   },
   "file_extension": ".py",
   "mimetype": "text/x-python",
   "name": "python",
   "nbconvert_exporter": "python",
   "pygments_lexer": "ipython3",
   "version": "3.7.4"
  }
 },
 "nbformat": 4,
 "nbformat_minor": 4
}
