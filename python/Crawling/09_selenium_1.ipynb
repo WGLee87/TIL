{
 "cells": [
  {
   "cell_type": "markdown",
   "metadata": {},
   "source": [
    "### selenium\n",
    "    - 브라우저를 직접 실행하여 자동화하고 브라우저상에 있는 데이터를 수집\n",
    "    - 웹 테스트 자동화를 위해서 만들어진 라이브러리\n",
    "    - 다양한 브라우저 지원\n",
    "    - 다양한 언어를 지원"
   ]
  },
  {
   "cell_type": "markdown",
   "metadata": {},
   "source": [
    "###### 설정\n",
    "    - seleniu chromm driver 설정\n",
    "        - 크롬 드라이버 다운로드 : https://chromedriver.chromium.org/downloads\n",
    "        - 본인 컴퓨터에 맞는 드라이버 버전을 다운로드\n",
    "        - 사용중인 주피터 노트북과 같은 디렉토리에 크롬 드라이버 파일 업로드\n",
    "        - mac\n",
    "            - chromedriver 파일을 /usr/local/bin 디렉토리로 복사\n",
    "            - sudo cp ~/Downloads/chromedriver /usr/local/bin\n",
    "        - windows\n",
    "            - 환경변수 추가\n",
    "            - 내컴퓨터 - 속성 - 고급시스템설정 - 환경변수\n",
    "            - chromedriver의 path를 추가\n",
    "    - selenium python package 설치\n",
    "        - sudo pip install selenium\n",
    "        - conda install -c conda-forge selenium"
   ]
  },
  {
   "cell_type": "code",
   "execution_count": 20,
   "metadata": {},
   "outputs": [],
   "source": [
    "from selenium import webdriver"
   ]
  },
  {
   "cell_type": "code",
   "execution_count": 46,
   "metadata": {},
   "outputs": [],
   "source": [
    "chrome_driver = '/Users/wglee/Desktop/DATA ANALYSIS/Chromedriver'\n",
    "driver = webdriver.Chrome(chrome_driver)\n",
    "\n",
    "# 페이지 이동 : get\n",
    "driver.get('https://daum.net')\n",
    "\n",
    "# 윈도우 사이즈 조절\n",
    "driver.set_window_size(1800, 1000)\n",
    "\n",
    "# 스크롤 위치 조절\n",
    "# driver.execute_script('window.scrollTo(200,300);')\n",
    "\n",
    "# alert 다루기\n",
    "# driver.execute_script(\"alert('FastCampus');\")\n",
    "# alert = driver.switch_to.alert\n",
    "# alert.accept()\n",
    "\n",
    "# input 태그에 문자열 입력\n",
    "#select_one : find_element_by_css_selector\n",
    "#select : find_elements_by_css_selector\n",
    "driver.find_element_by_css_selector('#q').send_keys('패스트 캠퍼스')\n",
    "# driver.find_element_by_css_selector('#q').clear()\n",
    "# driver.find_element_by_css_selector('#q').send_keys('파이썬')\n",
    "\n",
    "# button 클릭\n",
    "driver.find_element_by_css_selector('.inner_search > .btn_search').click()"
   ]
  },
  {
   "cell_type": "code",
   "execution_count": 52,
   "metadata": {},
   "outputs": [],
   "source": [
    "# 브라우저 종료\n",
    "driver.quit()"
   ]
  },
  {
   "cell_type": "markdown",
   "metadata": {},
   "source": [
    "#### Darksky api 키 재발급 자동화"
   ]
  },
  {
   "cell_type": "code",
   "execution_count": 54,
   "metadata": {},
   "outputs": [],
   "source": [
    "# 브라우저 열기\n",
    "driver = webdriver.Chrome()"
   ]
  },
  {
   "cell_type": "code",
   "execution_count": 55,
   "metadata": {},
   "outputs": [],
   "source": [
    "# 로그인 페이지 이동\n",
    "driver.get('https://darksky.net/dev/login')"
   ]
  },
  {
   "cell_type": "code",
   "execution_count": 58,
   "metadata": {},
   "outputs": [],
   "source": [
    "# 이메일, 패스워드 입력\n",
    "# 로그인 버튼 클릭\n",
    "email = 'pdj1224@gmail.com'\n",
    "pw = 'qwer1234'\n",
    "\n",
    "driver.find_element_by_css_selector('#email').send_keys(email)\n",
    "driver.find_element_by_css_selector('#password').send_keys(pw)\n",
    "driver.find_element_by_css_selector('[type=\"submit\"]').click()"
   ]
  },
  {
   "cell_type": "code",
   "execution_count": 59,
   "metadata": {},
   "outputs": [],
   "source": [
    "# 리셋 시크릿 버튼 클릭\n",
    "driver.find_element_by_css_selector('.reset-key').click()"
   ]
  },
  {
   "cell_type": "code",
   "execution_count": 60,
   "metadata": {},
   "outputs": [],
   "source": [
    "# alert 확인 버튼 클릭\n",
    "alert = driver.switch_to.alert\n",
    "alert.accept()"
   ]
  },
  {
   "cell_type": "code",
   "execution_count": 61,
   "metadata": {},
   "outputs": [
    {
     "data": {
      "text/plain": [
       "'30f7a62bee72a5d1b8333dddb135decc'"
      ]
     },
     "execution_count": 61,
     "metadata": {},
     "output_type": "execute_result"
    }
   ],
   "source": [
    "# 바뀐 키값 출력\n",
    "s_key = driver.find_element_by_css_selector('#api-key').get_attribute('value')\n",
    "s_key"
   ]
  },
  {
   "cell_type": "code",
   "execution_count": null,
   "metadata": {},
   "outputs": [],
   "source": [
    "# 브라우저 종료"
   ]
  },
  {
   "cell_type": "code",
   "execution_count": 63,
   "metadata": {},
   "outputs": [],
   "source": [
    "driver.quit()"
   ]
  },
  {
   "cell_type": "code",
   "execution_count": 72,
   "metadata": {},
   "outputs": [],
   "source": [
    "# 함수로 만들기\n",
    "def get_apikeys(email, pw):\n",
    "    driver = webdriver.Chrome()\n",
    "    driver.get('https://darksky.net/dev/login')\n",
    "    \n",
    "    driver.find_element_by_css_selector('#email').send_keys(email)\n",
    "    driver.find_element_by_css_selector('#password').send_keys(pw)\n",
    "    driver.find_element_by_css_selector('[type=\"submit\"]').click()\n",
    "    \n",
    "    driver.find_element_by_css_selector('.reset-key').click()\n",
    "    \n",
    "    alert = driver.switch_to.alert\n",
    "    alert.accept()\n",
    "    \n",
    "    s_key = driver.find_element_by_css_selector('#api-key').get_attribute('value')\n",
    "    \n",
    "    driver.quit()\n",
    "        \n",
    "    return s_key"
   ]
  },
  {
   "cell_type": "code",
   "execution_count": 74,
   "metadata": {},
   "outputs": [
    {
     "data": {
      "text/plain": [
       "'74f4fb713275510069a0a1989107226b'"
      ]
     },
     "execution_count": 74,
     "metadata": {},
     "output_type": "execute_result"
    }
   ],
   "source": [
    "email = 'pdj1224@gmail.com'\n",
    "pw = 'qwer1234'\n",
    "get_apikeys(email, pw)"
   ]
  }
 ],
 "metadata": {
  "kernelspec": {
   "display_name": "Python 3",
   "language": "python",
   "name": "python3"
  },
  "language_info": {
   "codemirror_mode": {
    "name": "ipython",
    "version": 3
   },
   "file_extension": ".py",
   "mimetype": "text/x-python",
   "name": "python",
   "nbconvert_exporter": "python",
   "pygments_lexer": "ipython3",
   "version": "3.7.4"
  }
 },
 "nbformat": 4,
 "nbformat_minor": 4
}
